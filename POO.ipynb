{
 "cells": [
  {
   "cell_type": "markdown",
   "metadata": {},
   "source": [
    " <p style=\"text-align: center;font-size: 35px;\"><b>STRUCTURE DE DONNÉES</b></p>\n",
    " <p style=\"text-align: center;font-size: 25px;\">La programmation orientée objet \n",
    "   </p> \n",
    "\n",
    "<br>\n",
    " <p style=\"text-align:right;font-size: 10px;\"> TERMINALE NSI</p>"
   ]
  },
  {
   "cell_type": "markdown",
   "metadata": {},
   "source": [
    "## Définitions\n",
    "\n",
    "La programmation objet consiste à regrouper données et traitements dans une même structure appelée **objet**. C'est un *paradigme* de programmation qui a l'avantage de localiser en un même endroit toute l'implémentation d'une structure de données abstraite.\n",
    "\n",
    ">Les données associées à un objet sont appelés des **attributs**.\n",
    ">Les fonctions ou procédures s'appliquant sur un objet sont appelées des **méthodes**.\n",
    ">Une **classe** est à la fois un modèle d'objet et une machine à fabriquer des objets sur ce modèle."
   ]
  },
  {
   "cell_type": "markdown",
   "metadata": {},
   "source": [
    "## Un premier exemple : la classe `Cube`\n",
    "\n",
    "Une classe `Cube` va contenir tous les défintions géometriques d´un cube. Les cubes colorés sont tous des **objets**, des **instances** de la classe `Cube`, chacun possédant ses propres attributs (sa taille, sa couleur...).<br>\n",
    "\n",
    "<br>\n",
    "\n",
    "\n",
    "<img src=\"http://www.fredpeuriere.com/NSI-term/STRUCTURE/POO/cubes.png\" width='300'/>"
   ]
  },
  {
   "cell_type": "markdown",
   "metadata": {},
   "source": [
    "## Un deuxième exemple : la classe `Voiture`\n",
    "Une classe définit des **attributs** et des **méthodes**. Par exemple, imaginons une classe `Voiture` qui servira à créer des objets qui sont des voitures. Cette classe va pouvoir définir un attribut `couleur`, un attribut `vitesse`, etc. Ces attributs correspondent à des propriétés qui peuvent exister pour une voiture. La classe `Voiture` pourra également définir une méthode `rouler()`. Une méthode correspond en quelque sorte à une action, ici l’action de rouler peut être réalisée pour une voiture.\n",
    "\n",
    "On représente souvent une classe avec un **diagramme de classe**:\n",
    "\n",
    "<img src=\"http://www.fredpeuriere.com/NSI-term/STRUCTURE/POO/diagramme.png\" width='285'/>"
   ]
  },
  {
   "cell_type": "markdown",
   "metadata": {},
   "source": [
    "En Python, la classe `Voiture` s´écrirait:"
   ]
  },
  {
   "cell_type": "code",
   "execution_count": null,
   "metadata": {},
   "outputs": [],
   "source": [
    "class Voiture:\n",
    "    def __init__(self, vitesse, couleur):\n",
    "        '''Initialise une voiture'''\n",
    "        self.v=vitesse\n",
    "        self.c=couleur\n",
    "    \n",
    "    def rouler(self):\n",
    "        '''methode pour faire rouler la voiture'''\n",
    "        print('Je roule à '+str(self.v)+'km/h!')"
   ]
  },
  {
   "cell_type": "markdown",
   "metadata": {},
   "source": [
    "**Quelques remarques:**\n",
    "\n",
    "Les **attributs** `v` et `c` sont propres à chaque objet `voiture`. Dans la terminologie des langages à objet, on parle d' *attributs d'instance*.\n",
    "\n",
    "En Python, c'est par la notation `self.v` que l'attribut `v` est créé pour l'objet sur lequel est appelée la méthode.\n",
    "\n",
    "Une méthode d'initialisation des objets créant des attributs est nécessaire. En Python, c'est la méthode spéciale `__init__`, qui est systématiquement appelée sur chaque nouvel objet juste après sa création. Cette méthode est appelée *constructeur*."
   ]
  },
  {
   "cell_type": "markdown",
   "metadata": {},
   "source": [
    "Passons maintenant à la créations des objets (les instances de la classe), une **voiture rouge qui roule à 100km/h** et une **voiture verte qui roule à 50km/h**. Affichons ensuite leurs attributs."
   ]
  },
  {
   "cell_type": "code",
   "execution_count": null,
   "metadata": {},
   "outputs": [],
   "source": [
    "voiture1=Voiture(100,'rouge')  # création de l´objet voiture 1\n",
    "# création de l´objet voiture 2\n",
    "# affichage des attributs"
   ]
  },
  {
   "cell_type": "markdown",
   "metadata": {},
   "source": [
    "La notation pointée (`objet.attribut`) permet d´accéder aux attributs de l´objet.\n",
    "La syntaxe suivante permet d´afficher tous les attributs d´un objet sous la forme d´un dictionnaire."
   ]
  },
  {
   "cell_type": "code",
   "execution_count": null,
   "metadata": {},
   "outputs": [],
   "source": [
    "voiture1.__dict__"
   ]
  },
  {
   "cell_type": "markdown",
   "metadata": {},
   "source": [
    "Faisons maintenant rouler nos voitures:"
   ]
  },
  {
   "cell_type": "code",
   "execution_count": null,
   "metadata": {},
   "outputs": [],
   "source": [
    "# appel de la méthode rouler()"
   ]
  },
  {
   "cell_type": "markdown",
   "metadata": {},
   "source": [
    "Nous utilisons là encore la notation pointée (`objet.methode()`)\n",
    "La syntaxe suivante permet d´afficher tous les methodes d´un objet:"
   ]
  },
  {
   "cell_type": "code",
   "execution_count": null,
   "metadata": {},
   "outputs": [],
   "source": [
    "dir(Voiture)"
   ]
  },
  {
   "cell_type": "markdown",
   "metadata": {},
   "source": [
    "On remarque la présence de notre méthode `rouler()` et une grande quantité de **méthodes spéciales** toujours encadrées par deux _ (underscore). On reconnait notre constructeur `__init__` et la méthode `__dict__`."
   ]
  },
  {
   "cell_type": "markdown",
   "metadata": {},
   "source": [
    "### Méthodes spéciales en Python\n",
    "\n",
    "Ces méthodes sont appelées dans des contextes particuliers et peuvent être redéfinies par le programmeur pour une classe particulière.\n",
    "\n",
    "- A l'initialisation d'un objet, c'est la méthode : `__init__(self, ...)`\n",
    "- Lors de la conversion en chaîne par `str(obj)` ou affichage avec `print(obj)`, c'est la méthode : `__str__(self)`\n",
    "- La conversion en chaîne \"évaluable\" par `repr(obj)` utilise la méthode : `__repr__(self)` qui peut aussi être utilisée par  `str` ou  `print`, si `__str__` n'est pas définie.\n",
    "- Le test d'égalité entre deux objets, invoque la méthode `__eq__(self, other)`\n",
    "- L'addition d'un objet avec un autre utilise la méthode `__add__(self, other)`\n",
    "\n",
    "voir [ici](https://docs.python.org/3/reference/datamodel.html#special-method-names) pour la liste complète."
   ]
  },
  {
   "cell_type": "markdown",
   "metadata": {},
   "source": [
    "Pour comprendre l´intérêt de la méthode : `__repr__(self)`, affichons le contenu de l´objet `voiture1`:"
   ]
  },
  {
   "cell_type": "code",
   "execution_count": null,
   "metadata": {},
   "outputs": [],
   "source": [
    "voiture1"
   ]
  },
  {
   "cell_type": "markdown",
   "metadata": {},
   "source": [
    "L´interpréteur nous retourne l´adresse hexadécimale dans laquelle est stocké l´objet (dans la mémoire vive). Testez l´affichage de `voiture2`. On vérifie que les deux objets sont différents. \n",
    "<br>On peut tout de même rendre l´affichage plus convivial, grâce à la méthode spéciale `__repr__(self)`. Ajoutons cette méthode à notre classe `Voiture`."
   ]
  },
  {
   "cell_type": "code",
   "execution_count": null,
   "metadata": {},
   "outputs": [],
   "source": [
    "class Voiture:\n",
    "    def __init__(self, vitesse, couleur):\n",
    "        \"\"\"Initialise une voiture\"\"\"\n",
    "        self.v=vitesse\n",
    "        self.c=couleur\n",
    "    \n",
    "    def rouler(self):\n",
    "        \"\"\"methode pour faire rouler la voiture\"\"\"\n",
    "        print('Je roule à '+str(self.v)+'km/h!')\n",
    "    ## ajout de la methode spéciale __repr__\n",
    "    ## par exemple, print(voiture1) doit afficher: Je suis rouge et je roule à 100km/h!\n",
    "\n",
    "    \n",
    "# on recrée les deux objets voiture1 et voiture2 et on affiche leur contenu\n"
   ]
  },
  {
   "cell_type": "markdown",
   "metadata": {},
   "source": [
    "## En Python, tout est objet:\n",
    "Exemple des chaines de caractères"
   ]
  },
  {
   "cell_type": "code",
   "execution_count": null,
   "metadata": {},
   "outputs": [],
   "source": [
    "a='bonjour'\n",
    "type(a)"
   ]
  },
  {
   "cell_type": "code",
   "execution_count": null,
   "metadata": {},
   "outputs": [],
   "source": [
    "# Affichage des méthodes de la classe str:"
   ]
  },
  {
   "cell_type": "markdown",
   "metadata": {},
   "source": [
    "On peut voir cette chaine de caractères comme une instance de la classe `str` créée par Python. `a` est une une variable faisant référence à cet objet."
   ]
  },
  {
   "cell_type": "code",
   "execution_count": null,
   "metadata": {},
   "outputs": [],
   "source": [
    "# Testons la méthode `upper`:"
   ]
  },
  {
   "cell_type": "markdown",
   "metadata": {},
   "source": [
    "## Un nouvel exemple : la classe `Point`\n",
    "\n",
    "On cherche à définir une classe pour représenter des points à afficher dans un programme de dessin.\n",
    "Chaque point a ses coordonnées `x` et `y`. \n",
    "On ajoutera une méthode spéciale `__repr__`pour afficher les coordonnées du point.\n",
    "Testez votre classe en créant deux points **A(2,4)** et **B(6,7)**."
   ]
  },
  {
   "cell_type": "code",
   "execution_count": 1,
   "metadata": {},
   "outputs": [],
   "source": [
    "# A compléter\n",
    "class Point:\n",
    "    \"\"\"Manipulation de points.\"\"\"\n",
    "\n",
    "    def __init__(self, abscisse, ordonnee):\n",
    "        \"Initialise le point avec les coordonnées indiquées\"\n",
    "        self.x=abscisse\n",
    "        self.y=ordonnee\n",
    "    # A compléter\n",
    "    \n",
    "# Création des points et affichage des coordonnées\n",
    "A=Point(2,4)"
   ]
  },
  {
   "cell_type": "code",
   "execution_count": 2,
   "metadata": {},
   "outputs": [
    {
     "data": {
      "image/png": "[encoded data removed]",
      "text/plain": [
       "<Figure size 640x480 with 1 Axes>"
      ]
     },
     "metadata": {},
     "output_type": "display_data"
    }
   ],
   "source": [
    "# Ces lignes de code permettent de dessiner un point bleu de coordonnées (2,4) avec matplotlib\n",
    "import matplotlib.pyplot as plt\n",
    "# axes et grille\n",
    "plt.grid()\n",
    "plt.xlim([0,10])\n",
    "plt.ylim([0,10])\n",
    "\n",
    "# dessin du point:\n",
    "plt.plot(2,4, marker=\"o\", color=\"blue\",linestyle = 'None')\n",
    "\n",
    "# se place en toute fin de programme pour lancer l´affichage\n",
    "plt.show()"
   ]
  },
  {
   "cell_type": "markdown",
   "metadata": {},
   "source": [
    "Ajoutez maintant à la classe `Point` la methode `draw()` qui permet de dessiner un point d´une couleur donnée dans `matplotlib`. Testez le dessin des points A (en rouge) et B (en bleu)."
   ]
  },
  {
   "cell_type": "code",
   "execution_count": null,
   "metadata": {},
   "outputs": [],
   "source": [
    "\n",
    "# axes et grille:\n",
    "plt.grid()\n",
    "plt.xlim([0,10])\n",
    "plt.ylim([0,10])\n",
    "\n",
    "# Copier et coller ici la class Point, puis la compléter\n",
    "\n",
    "\n",
    "\n",
    "\n",
    "\n",
    "# Création des points avec leurs couleurs\n",
    "\n",
    "# Dessin des points\n",
    "\n",
    "\n",
    "plt.grid()\n",
    "plt.show() # Affichage final"
   ]
  },
  {
   "cell_type": "markdown",
   "metadata": {},
   "source": [
    "## Le vecteur\n",
    "\n",
    "De même que pour le point, on peut définir un vecteur par ses 2 coordonnées:"
   ]
  },
  {
   "cell_type": "code",
   "execution_count": null,
   "metadata": {},
   "outputs": [],
   "source": [
    "class Vecteur: \n",
    "    def __init__(self, x, y): \n",
    "        self.x = x  \n",
    "        self.y = y"
   ]
  },
  {
   "cell_type": "markdown",
   "metadata": {},
   "source": [
    "Pour le dessiner au point origine de coordonnées (x0,y0), on utilise la fonction:\n",
    "<br>`plt.quiver(x0, y0, x, y, units='xy' ,scale=1)`"
   ]
  },
  {
   "cell_type": "markdown",
   "metadata": {},
   "source": [
    "Implémenter une méthode `draw` admettant un seul paramètre point\n",
    "(en plus de l’objet lui même bien sûr) de type Point et permettant d’afficher un vecteur **v1** de coordonnées (1,2) au point A et un vecteur **v2** de coordonnées (2,-4) au point B."
   ]
  },
  {
   "cell_type": "code",
   "execution_count": null,
   "metadata": {},
   "outputs": [],
   "source": [
    "class Vecteur: \n",
    "    def __init__(self, x, y): \n",
    "        self.x = x  \n",
    "        self.y = y\n",
    "    # A compléter\n",
    "\n",
    "    \n",
    "# Création des objets v1 et v2\n",
    "\n",
    "\n",
    "# Dessin des objets v1 et v2\n",
    "plt.grid()\n",
    "plt.show()  # Affichage final"
   ]
  },
  {
   "cell_type": "markdown",
   "metadata": {},
   "source": [
    "Complétons notre classe `Vecteur`en ajoutant la méthode __add__ acceptant comme argument (en plus du vecteur lui-même, self) un autre vecteur (other), et en renvoyant le vecteur somme. Testez la fonctionnalité d´addition des vecteurs v1 et v2."
   ]
  },
  {
   "cell_type": "code",
   "execution_count": null,
   "metadata": {},
   "outputs": [],
   "source": [
    "\n",
    "# Copier et coller ici la class Vecteur, puis la compléter\n",
    "\n",
    "\n",
    "\n",
    "\n",
    "# Création des objets v1 et v2\n",
    "\n",
    "\n",
    "# Addition de v1 et v2\n"
   ]
  },
  {
   "cell_type": "markdown",
   "metadata": {},
   "source": [
    "Dessinons maintenant le vecteur somme:"
   ]
  },
  {
   "cell_type": "code",
   "execution_count": null,
   "metadata": {},
   "outputs": [],
   "source": [
    "# efface les dessins précédents:\n",
    "plt.clf()\n",
    "\n",
    "# dessin du vecteur v1+v2 au point A:\n"
   ]
  },
  {
   "cell_type": "markdown",
   "metadata": {},
   "source": [
    "## A vous de jouer : la classe `Temps`<br>\n",
    "Créer une classe `Temps` avec des attributs d'instance `h` , `mn`et `s`, une méthode d'initialisation qui construit un temps **en secondes** à partir de 3 entiers pour les heures, minutes (<=59) et secondes (<=59): On appelera cet unique attribut: `tempsEnSecondes`.<br>\n",
    "<br>\n",
    "On ajoutera trois méthodes:<br>\n",
    ">`heures(self)` qui donnera le nombre d'*heures entières* d'un temps donné.<br>\n",
    ">`minutes(self)` qui donnera le nombre de minutes (entre 0 et 59) d'un temps donné.<br>\n",
    ">`secondes(self)` qui donnera le nombre de secondes (entre 0 et 59) d'un temps donné.\n",
    "\n",
    "<br>On ajoute enfin les deux méthodes spéciales:<br>\n",
    ">`__repr__ (self)` qui donnera une représentation externe lisible d'un temps.<br>\n",
    ">`__add__ (self,other)` qui additionne 2 temps.<br>"
   ]
  },
  {
   "cell_type": "code",
   "execution_count": null,
   "metadata": {},
   "outputs": [],
   "source": [
    "# Création de la classe\n"
   ]
  },
  {
   "cell_type": "markdown",
   "metadata": {},
   "source": [
    "Testez enfin l´addition de deux temps:"
   ]
  },
  {
   "cell_type": "code",
   "execution_count": null,
   "metadata": {},
   "outputs": [],
   "source": [
    "# on crée des objets de la classe Temps et on les ajoute..."
   ]
  },
  {
   "cell_type": "markdown",
   "metadata": {},
   "source": [
    "<hr>\n",
    "<div align=\"right\">\n",
    "  Frédéric PEURIERE\n",
    "</div>\n"
   ]
  }
 ],
 "metadata": {
  "kernelspec": {
   "display_name": "Python 3 (ipykernel)",
   "language": "python",
   "name": "python3"
  },
  "language_info": {
   "codemirror_mode": {
    "name": "ipython",
    "version": 3
   },
   "file_extension": ".py",
   "mimetype": "text/x-python",
   "name": "python",
   "nbconvert_exporter": "python",
   "pygments_lexer": "ipython3",
   "version": "3.11.1"
  }
 },
 "nbformat": 4,
 "nbformat_minor": 4
}
