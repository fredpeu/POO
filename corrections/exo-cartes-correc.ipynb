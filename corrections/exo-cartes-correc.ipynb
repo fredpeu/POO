{
 "cells": [
  {
   "cell_type": "markdown",
   "metadata": {},
   "source": [
    " <p style=\"text-align: center;font-size: 35px;\"><b>STRUCTURE DE DONNÉES</b></p>\n",
    " <p style=\"text-align: center;font-size: 25px;\">La programmation orientée objet \n",
    "   </p> \n",
    "   \n",
    "   <p style=\"text-align: center;font-size: 20px; color:white; background:green;\">Exercice: un jeu de cartes \n",
    "   </p>\n",
    "\n",
    "<br>\n",
    " <p style=\"text-align:right;font-size: 10px;\">> TERMINALE NSI</p>"
   ]
  },
  {
   "cell_type": "markdown",
   "metadata": {},
   "source": [
    "## Objectif :\n",
    "\n",
    "Nous allons créer un jeu de cartes en utilisant la programmation orientée **objet**. Nous jouerons avec un jeu de 32 cartes crée par la classe `Carte`, que nous devons créer.<br>\n",
    "\n",
    "<br>\n",
    "\n",
    "\n",
    "<div align='center'><img src=\"http://www.fredpeuriere.com/NSI-term/STRUCTURE/POO/9.png\" width='100'/></div>"
   ]
  },
  {
   "cell_type": "markdown",
   "metadata": {},
   "source": [
    "## La classe `Carte`\n",
    "\n",
    "La classe va contenir tous les défintions d'une carte d' un jeu de 32. \n",
    "Chaque **instance** de cette classe possède deux **attributs**: son nom (exemple: *'Valet'*) et sa couleur (exemple: *'COEUR'*).<br>\n",
    "\n",
    "<br>\n",
    "<div align='center'><img src=\"http://www.fredpeuriere.com/NSI-term/STRUCTURE/POO/cartes.png\" width='300'/></div><br><div style=\"text-align: center;font-size: 10px;\">Un jeu de 32 cartes. La plus forte est l´As, la plus faible le 7.</div>"
   ]
  },
  {
   "cell_type": "markdown",
   "metadata": {},
   "source": [
    "On déjà stocker les différentes combinaisons possibles dans des variables globales:"
   ]
  },
  {
   "cell_type": "code",
   "execution_count": 10,
   "metadata": {},
   "outputs": [],
   "source": [
    "# variables globales\n",
    "couleurs = ('CARREAU', 'COEUR', 'TREFLE', 'PIQUE')\n",
    "noms = ['7', '8', '9', '10', 'Valet', 'Dame', 'Roi', 'As']\n",
    "# on associe chaque nom de carte à sa valeur\n",
    "valeurs = {'7': 7, '8': 8, '9': 9,'10': 10, 'Valet': 11, 'Dame': 12, 'Roi': 13, 'As': 14}"
   ]
  },
  {
   "cell_type": "markdown",
   "metadata": {},
   "source": [
    "Commençons par quelques rappels sur le parcours de ces structures de données:"
   ]
  },
  {
   "cell_type": "markdown",
   "metadata": {},
   "source": [
    "Afficher la **valeur** de la *Dame*:"
   ]
  },
  {
   "cell_type": "code",
   "execution_count": null,
   "metadata": {},
   "outputs": [],
   "source": [
    "valeurs['Dame']"
   ]
  },
  {
   "cell_type": "markdown",
   "metadata": {},
   "source": [
    "Afficher uniquement les **valeurs** des cartes:"
   ]
  },
  {
   "cell_type": "code",
   "execution_count": null,
   "metadata": {},
   "outputs": [],
   "source": [
    "for i in valeurs.values():\n",
    "    print(i)"
   ]
  },
  {
   "cell_type": "markdown",
   "metadata": {},
   "source": [
    "Afficher les couples *noms/valeurs*\n",
    "des cartes sous forme de **tuples**:"
   ]
  },
  {
   "cell_type": "code",
   "execution_count": null,
   "metadata": {},
   "outputs": [],
   "source": [
    "for i in valeurs.items():\n",
    "    print(i)"
   ]
  },
  {
   "cell_type": "markdown",
   "metadata": {},
   "source": [
    "## Création de la classe `Carte`\n",
    "\n",
    "Créer maintenant la classe définie plus haut avec son constructeur.<br>\n",
    "\n",
    "Elle devra intégrer la méthode spéciale:   `__repr__(self)` appelée par  `print`.\n",
    "- Le test d'égalité entre la valeur de deux cartes qui invoque la méthode `__eq__(self, other)`\n",
    "- Le comparaison de la valeur de deux cartes utilise les méthodes `__gt__(self, other)` et `__lt__(self, other)`.\n",
    "\n",
    "On n´oubliera pas la méthode `valeur()` qui affiche la valeur de la carte.\n",
    "\n",
    "<br>\n"
   ]
  },
  {
   "cell_type": "code",
   "execution_count": 2,
   "metadata": {},
   "outputs": [],
   "source": [
    "class Carte:\n",
    "    def __init__(self, nom, couleur):\n",
    "        self.nom=nom\n",
    "        self.couleur=couleur\n",
    "    def valeur(self):\n",
    "        return valeurs[self.nom]\n",
    "    def __gt__(self,other):\n",
    "        return self.valeur()>other.valeur()\n",
    "    def __eq__(self,other):\n",
    "        return self.nom==other.nom\n",
    "    def __repr__(self):\n",
    "        return self.nom+' de '+self.couleur"
   ]
  },
  {
   "cell_type": "markdown",
   "metadata": {},
   "source": [
    "## Création des instances et tests\n",
    "\n",
    "Testons maintenant classe définie plus haut en créant le code du programme principal qui permet de:<br>\n",
    "\n",
    "1. Créer la carte Valet de COEUR que l’on nommera c1.\n",
    "\n",
    "2. Afficher le nom, la valeur et la couleur de c1.\n",
    "\n",
    "3. Créer la carte As de PIQUE que l’on nommera c2.\n",
    "\n",
    "4. Afficher le nom, la valeur et la couleur de c2.\n",
    "\n",
    "5. Modifier le nom de la carte c2 en Roi et afficher le nom, la valeur et la couleur de c2.\n",
    "6. Créer la carte 8 de TREFLE que l’on nommera c3.\n",
    "\n",
    "7. Comparer les cartes c1 et c2 puis c1 et c3.\n",
    "\n",
    "<br>\n"
   ]
  },
  {
   "cell_type": "code",
   "execution_count": 3,
   "metadata": {},
   "outputs": [
    {
     "data": {
      "text/plain": [
       "Valet de COEUR"
      ]
     },
     "execution_count": 3,
     "metadata": {},
     "output_type": "execute_result"
    }
   ],
   "source": [
    "# 1,2\n",
    "c1=Carte('Valet','COEUR')\n",
    "c1"
   ]
  },
  {
   "cell_type": "code",
   "execution_count": 5,
   "metadata": {},
   "outputs": [
    {
     "data": {
      "text/plain": [
       "As de PIQUE"
      ]
     },
     "execution_count": 5,
     "metadata": {},
     "output_type": "execute_result"
    }
   ],
   "source": [
    "# 3,4\n",
    "c2=Carte('As','PIQUE')\n",
    "c2"
   ]
  },
  {
   "cell_type": "code",
   "execution_count": 6,
   "metadata": {},
   "outputs": [
    {
     "data": {
      "text/plain": [
       "Roi de PIQUE"
      ]
     },
     "execution_count": 6,
     "metadata": {},
     "output_type": "execute_result"
    }
   ],
   "source": [
    "# 5\n",
    "c2.nom='Roi'\n",
    "c2"
   ]
  },
  {
   "cell_type": "code",
   "execution_count": 8,
   "metadata": {},
   "outputs": [
    {
     "data": {
      "text/plain": [
       "8 de TREFLE"
      ]
     },
     "execution_count": 8,
     "metadata": {},
     "output_type": "execute_result"
    }
   ],
   "source": [
    "# 6\n",
    "c3=Carte('8','TREFLE')\n",
    "c3"
   ]
  },
  {
   "cell_type": "code",
   "execution_count": 11,
   "metadata": {},
   "outputs": [
    {
     "data": {
      "text/plain": [
       "False"
      ]
     },
     "execution_count": 11,
     "metadata": {},
     "output_type": "execute_result"
    }
   ],
   "source": [
    "# 7\n",
    "c1>c2"
   ]
  },
  {
   "cell_type": "code",
   "execution_count": 12,
   "metadata": {},
   "outputs": [
    {
     "data": {
      "text/plain": [
       "True"
      ]
     },
     "execution_count": 12,
     "metadata": {},
     "output_type": "execute_result"
    }
   ],
   "source": [
    "# 7\n",
    "c1>c3"
   ]
  },
  {
   "cell_type": "markdown",
   "metadata": {},
   "source": [
    "Dans un jeu de carte, on doit répartir les cartes **au hasard** entre les deux joueurs. Testez le tirage d'une carte dans le jeu de 32..."
   ]
  },
  {
   "cell_type": "code",
   "execution_count": null,
   "metadata": {},
   "outputs": [],
   "source": [
    "import random as rdm\n",
    "cartex=Carte(rdm.choice(noms),rdm.choice(couleurs))\n",
    "cartex"
   ]
  },
  {
   "cell_type": "markdown",
   "metadata": {},
   "source": [
    "Nous avons créé une classe `Carte` qui permet de créer une carte à jouer standard. Le paquet ou jeu de cartes est donc un objet constitué de 32 cartes à jouer.\n",
    "\n",
    "Si un jeu de carte est un objet, on peut donc définir une classe `JeuDeCartes`.<br>\n",
    "Cette classe a (entre autre) pour attribut **une liste** composée de 32 instances différentes de la classe Carte (on ne veut pas de doublon bien sûr).\n",
    "\n",
    "Les méthodes de cette classe doivent pouvoir:\n",
    "- Remplir la liste avec les 32 cartes\n",
    "- Mélanger les cartes\n",
    "- Distribuer une carte à un joueur\n"
   ]
  },
  {
   "cell_type": "markdown",
   "metadata": {},
   "source": [
    "<div style=\"text-align: right;font-size: 10px;\">A suivre...</div>"
   ]
  },
  {
   "cell_type": "markdown",
   "metadata": {},
   "source": [
    "---\n",
    "<div align='center'>Frédéric PEURIERE</div>\n"
   ]
  }
 ],
 "metadata": {
  "kernelspec": {
   "display_name": "Python 3 (ipykernel)",
   "language": "python",
   "name": "python3"
  },
  "language_info": {
   "codemirror_mode": {
    "name": "ipython",
    "version": 3
   },
   "file_extension": ".py",
   "mimetype": "text/x-python",
   "name": "python",
   "nbconvert_exporter": "python",
   "pygments_lexer": "ipython3",
   "version": "3.7.12"
  }
 },
 "nbformat": 4,
 "nbformat_minor": 4
}
